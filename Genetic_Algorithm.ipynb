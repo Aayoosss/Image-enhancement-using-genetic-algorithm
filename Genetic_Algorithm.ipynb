{
  "cells": [
    {
      "cell_type": "markdown",
      "source": [
        "#Genetic Algorithm\n",
        "##Steps Of Genetic Algorithm\n",
        "\n",
        "1. Encoding\n",
        "2. Initial population\n",
        "3. Fitness function\n",
        "4. Selection\n",
        "5. Mating pool\n",
        "6. Crossover\n",
        "7. Mutation\n",
        "\n"
      ],
      "metadata": {
        "id": "DYqEpLXqQOv8"
      }
    },
    {
      "cell_type": "markdown",
      "source": [
        "IMPORTING LIBRARIES"
      ],
      "metadata": {
        "id": "HTTgkv37Q9HF"
      }
    },
    {
      "cell_type": "code",
      "execution_count": null,
      "metadata": {
        "id": "PDtq9_dKtfZI"
      },
      "outputs": [],
      "source": [
        "import numpy as np\n",
        "import matplotlib.pyplot as plt\n",
        "import cv2\n",
        "import random\n",
        "from sklearn.metrics import mean_squared_error\n",
        "from skimage.metrics import structural_similarity as ssim"
      ]
    },
    {
      "cell_type": "markdown",
      "source": [
        "POPULATION GENERATION"
      ],
      "metadata": {
        "id": "u2FovXmyRKOD"
      }
    },
    {
      "cell_type": "code",
      "execution_count": null,
      "metadata": {
        "id": "6S8YPtpayE_-"
      },
      "outputs": [],
      "source": [
        "def gen_population(chromosome_length, population_size):\n",
        "  population=[]\n",
        "  for i in range(population_size):\n",
        "    chromosome = random.choices([0, 1], k=chromosome_length)\n",
        "    population.append(chromosome)\n",
        "\n",
        "  return population"
      ]
    },
    {
      "cell_type": "markdown",
      "source": [
        "DECODING THE TILE SIZE"
      ],
      "metadata": {
        "id": "SIICXxmARdBL"
      }
    },
    {
      "cell_type": "code",
      "execution_count": null,
      "metadata": {
        "id": "Ji8bbypFy0rk"
      },
      "outputs": [],
      "source": [
        "def bin2dec(chromosome):\n",
        "  decimal=0\n",
        "\n",
        "  for i in chromosome:\n",
        "    decimal=decimal*2 + int(i)\n",
        "\n",
        "  return decimal"
      ]
    },
    {
      "cell_type": "markdown",
      "source": [
        "DIVIDING THE CHROMOSOMES FOR LENGTH AND BREADTH"
      ],
      "metadata": {
        "id": "Ek2ZuZORR43v"
      }
    },
    {
      "cell_type": "code",
      "execution_count": null,
      "metadata": {
        "id": "6yeZXIPt3aSf"
      },
      "outputs": [],
      "source": [
        "def divide_chromosome(chromosome):\n",
        "  mbits=len(chromosome)//2\n",
        "  nbits=len(chromosome)-mbits\n",
        "\n",
        "  m=chromosome[:mbits]\n",
        "  n=chromosome[nbits:]\n",
        "\n",
        "  m=bin2dec(m)\n",
        "  n=bin2dec(n)\n",
        "\n",
        "  return m,n"
      ]
    },
    {
      "cell_type": "markdown",
      "source": [
        "DEFINING A FITNESS FUNCTION"
      ],
      "metadata": {
        "id": "yQC4O8XBSQAW"
      }
    },
    {
      "cell_type": "code",
      "execution_count": null,
      "metadata": {
        "id": "Y2xpSaji1eQS"
      },
      "outputs": [],
      "source": [
        "def calculate_fitness(original_image,enhanced_image):\n",
        "  org_img=np.asarray(original_image)\n",
        "  enh_img=np.asarray(enhanced_image)\n",
        "\n",
        "\n",
        "  mse=np.mean((org_img - enh_img) ** 2)\n",
        "  maxpixel=255.0\n",
        "\n",
        "  psnr=20*np.log10(maxpixel/np.sqrt(mse))\n",
        "\n",
        "  return psnr"
      ]
    },
    {
      "cell_type": "markdown",
      "source": [
        "APPLYING CLAHE FOR FITNESS FUNCTION"
      ],
      "metadata": {
        "id": "1ItnxwfQSibB"
      }
    },
    {
      "cell_type": "code",
      "execution_count": null,
      "metadata": {
        "id": "vvf1cD4p5_tG"
      },
      "outputs": [],
      "source": [
        "def ApplyClahe(image,cliplimit=2.0,gridsize=(8,8)):\n",
        "  LABimage=cv2.cvtColor(image,cv2.COLOR_BGR2LAB)\n",
        "  L,A,B=cv2.split(LABimage)\n",
        "  CLAHE=cv2.createCLAHE(cliplimit,gridsize)\n",
        "  Enh_L=CLAHE.apply(L)\n",
        "  Enh_LAB=cv2.merge((Enh_L,A,B))\n",
        "\n",
        "  return cv2.cvtColor(Enh_LAB,cv2.COLOR_LAB2BGR)"
      ]
    },
    {
      "cell_type": "markdown",
      "source": [
        "FITNESS GENERATION"
      ],
      "metadata": {
        "id": "Y8MiRjq4Sunq"
      }
    },
    {
      "cell_type": "code",
      "execution_count": null,
      "metadata": {
        "id": "Mg7VjUcm8EPw"
      },
      "outputs": [],
      "source": [
        "def generate_fitness(population,image,eachgentable):\n",
        "  Fitness_table=np.zeros(len(population))\n",
        "  print(\"Length Of Chromosome: \",len(population[0]))\n",
        "  for i, current_chromosome in enumerate(population):\n",
        "    m,n=divide_chromosome(current_chromosome)\n",
        "    grid=(m,n)\n",
        "    Enh_image=ApplyClahe(image,gridsize=grid)\n",
        "    Fitness_table[i]=calculate_fitness(image,Enh_image)\n",
        "  eachgentable.append(Fitness_table)\n",
        "  plt.plot(Fitness_table)\n",
        "  return Fitness_table,eachgentable"
      ]
    },
    {
      "cell_type": "markdown",
      "source": [
        "SORTING FITNESS"
      ],
      "metadata": {
        "id": "nkjPw_QaSxAv"
      }
    },
    {
      "cell_type": "code",
      "execution_count": null,
      "metadata": {
        "id": "lOuRveSp9lrm"
      },
      "outputs": [],
      "source": [
        "def sortfitness(population,fitness_table,bestfitnesstable):\n",
        "    combined_arrays = [(population[i], fitness_table[i]) for i in range(len(population))]\n",
        "\n",
        "\n",
        "    sorted_combined_arrays = sorted(combined_arrays, key=lambda x: x[1])\n",
        "\n",
        "    sorted_population = [t[0] for t in sorted_combined_arrays]\n",
        "    sorted_fitness_table = [t[1] for t in sorted_combined_arrays]\n",
        "\n",
        "    # print(\"Fittest Chromosome's Score: \", sorted_fitness_table[len(population)-1], \" Fittest Chromosome: \",sorted_population[len(population)-1])\n",
        "    bestfitnesstable.append(sorted_fitness_table[len(population)-1])\n",
        "    return sorted_population,sorted_fitness_table,bestfitnesstable\n"
      ]
    },
    {
      "cell_type": "markdown",
      "source": [
        "SELECTION"
      ],
      "metadata": {
        "id": "yL3byHwKS0MP"
      }
    },
    {
      "cell_type": "code",
      "execution_count": null,
      "metadata": {
        "id": "D5owq-lU3HRp"
      },
      "outputs": [],
      "source": [
        "def roulette_wheel_selection(fitness_table, population):\n",
        "  fitness_cdf = np.cumsum(fitness_table)\n",
        "  fitness_cdf = fitness_cdf / fitness_cdf[-1]\n",
        "\n",
        "  rand_num = np.random.rand()\n",
        "  for i in range(len(population)):\n",
        "    if rand_num < fitness_cdf[i]:\n",
        "      selected_parent = population[i]\n",
        "\n",
        "      return selected_parent"
      ]
    },
    {
      "cell_type": "markdown",
      "source": [
        "TWO POINT CROSSOVER"
      ],
      "metadata": {
        "id": "OWR_zZoCS10B"
      }
    },
    {
      "cell_type": "code",
      "execution_count": null,
      "metadata": {
        "id": "5sHPWExd_tiy"
      },
      "outputs": [],
      "source": [
        "def crossover(parent1,parent2):\n",
        "  point1,point2=np.random.choice(len(parent1),size=2,replace=False)\n",
        "  child1=parent1[:min(point1,point2)]+parent2[min(point1,point2):max(point1,point2)]+parent1[max(point1,point2):]\n",
        "  child2=parent2[:min(point1,point2)]+parent1[min(point1,point2):max(point1,point2)]+parent2[max(point1,point2):]\n",
        "  return child1, child2\n"
      ]
    },
    {
      "cell_type": "markdown",
      "source": [
        "GENERATING NEW POPULATION"
      ],
      "metadata": {
        "id": "SUi8qUpJS4Ve"
      }
    },
    {
      "cell_type": "code",
      "execution_count": null,
      "metadata": {
        "id": "B7CVVBi8dVIL"
      },
      "outputs": [],
      "source": [
        "def newgeneration(child1,child2,population):\n",
        "  population[0]=child1\n",
        "  population[1]=child2\n",
        "  return population\n",
        "\n"
      ]
    },
    {
      "cell_type": "markdown",
      "source": [
        "THREE POINT MUTATION"
      ],
      "metadata": {
        "id": "h-pjTOJgTGxY"
      }
    },
    {
      "cell_type": "code",
      "execution_count": null,
      "metadata": {
        "id": "7KFXapEPdtbG"
      },
      "outputs": [],
      "source": [
        "def mutation(population):\n",
        "  selected_chromosome=random.randint(0,len(population)-2)\n",
        "\n",
        "  point1=np.random.randint(0,len(population[0])-1)\n",
        "  point2=np.random.randint(0,len(population[0])-1)\n",
        "  point3=np.random.randint(0,len(population[0])-1)\n",
        "  if population[selected_chromosome][point1]==1:\n",
        "    population[selected_chromosome][point1]=0\n",
        "  else:\n",
        "    population[selected_chromosome][point1]=1\n",
        "\n",
        "  if population[selected_chromosome][point2]==1:\n",
        "    population[selected_chromosome][point2]=0\n",
        "  else:\n",
        "    population[selected_chromosome][point2]=1\n",
        "\n",
        "  if population[selected_chromosome][point3]==1:\n",
        "    population[selected_chromosome][point3]=0\n",
        "  else:\n",
        "    population[selected_chromosome][point3]=1\n",
        "\n",
        "  return population\n"
      ]
    },
    {
      "cell_type": "markdown",
      "source": [
        "CODE FOR GA IMPLEMENTATION"
      ],
      "metadata": {
        "id": "w8H3qpN5TWoB"
      }
    },
    {
      "cell_type": "code",
      "execution_count": null,
      "metadata": {
        "id": "DsAaouTsjWgb"
      },
      "outputs": [],
      "source": [
        "def GA_for_CLAHE(image,max_m,max_n,population_size,generations):\n",
        "  chromosome_length=len(bin(max(max_m,max_n))[2:])*2\n",
        "  population=gen_population(chromosome_length,population_size)\n",
        "  Best_fitness=[]\n",
        "  eachgentable=[]\n",
        "\n",
        "  print(\"--------------------------------------------------------------------\")\n",
        "\n",
        "  for i in range(generations):\n",
        "    print(\"Generation: \", i+1)\n",
        "    fitness_table,eachgentable=generate_fitness(population,image,eachgentable)\n",
        "    population,fitness_table,Best_fitness=sortfitness(population,fitness_table,Best_fitness)\n",
        "\n",
        "    parent1=roulette_wheel_selection(fitness_table,population)\n",
        "    parent2=roulette_wheel_selection(fitness_table,population)\n",
        "    child1,child2=crossover(parent1,parent2)\n",
        "    population=newgeneration(child1,child2,population)\n",
        "\n",
        "    parent1=roulette_wheel_selection(fitness_table,population)\n",
        "    parent2=roulette_wheel_selection(fitness_table,population)\n",
        "    child1,child2=crossover(parent1,parent2)\n",
        "    population=newgeneration(child1,child2,population)\n",
        "\n",
        "    parent1=roulette_wheel_selection(fitness_table,population)\n",
        "    parent2=roulette_wheel_selection(fitness_table,population)\n",
        "    child1,child2=crossover(parent1,parent2)\n",
        "    population=newgeneration(child1,child2,population)\n",
        "\n",
        "    population=mutation(population)\n",
        "    population=mutation(population)\n",
        "    population=mutation(population)\n",
        "    population=mutation(population)\n",
        "\n",
        "\n",
        "    print(\"------------------------------------------------------------------\")\n",
        "\n",
        "  enhanced_image=applyclahe(image,population=population,population_size=population_size,max_m=max_m,max_n=max_n)\n",
        "\n",
        "\n",
        "  return enhanced_image, Best_fitness, eachgentable"
      ]
    },
    {
      "cell_type": "markdown",
      "source": [
        "FUNCTION FOR APPLYING CLAHE FOR THE FINAL VALUES"
      ],
      "metadata": {
        "id": "TGRK3ZYiTZv_"
      }
    },
    {
      "cell_type": "code",
      "execution_count": null,
      "metadata": {
        "id": "8s3iQTaMpB3B"
      },
      "outputs": [],
      "source": [
        "def applyclahe(image,population,population_size,max_m,max_n):\n",
        "  best_chromosome = population[population_size-1]\n",
        "  m,n = divide_chromosome(best_chromosome)\n",
        "\n",
        "  m=max(min(m,max_m), 2)\n",
        "  n=max(min(n,max_n), 2)\n",
        "\n",
        "  print(m)\n",
        "  print(n)\n",
        "\n",
        "  grid=(m,n)\n",
        "  enhanced_image=ApplyClahe(image,gridsize=grid)\n",
        "  return enhanced_image"
      ]
    },
    {
      "cell_type": "markdown",
      "source": [
        "COMPARING IMAGES BY PLOTTING THEM"
      ],
      "metadata": {
        "id": "n8LrQcGcTnRP"
      }
    },
    {
      "cell_type": "code",
      "execution_count": null,
      "metadata": {
        "id": "kXPjtZiTS2Of"
      },
      "outputs": [],
      "source": [
        "def compare_images(original_image,enhanced_image):\n",
        "  original_image = cv2.cvtColor(original_image, cv2.COLOR_BGR2RGB)\n",
        "  enhanced_image = cv2.cvtColor(enhanced_image, cv2.COLOR_BGR2RGB)\n",
        "\n",
        "# Create a figure and axis objects\n",
        "  fig, axes = plt.subplots(1, 2, figsize=(12, 6))\n",
        "\n",
        "# Display original image\n",
        "  axes[0].imshow(original_image)\n",
        "  axes[0].set_title('Original')  # Add label 'Before' to the original image\n",
        "  axes[0].axis('off')\n",
        "\n",
        "# Display enhanced image\n",
        "  axes[1].imshow(enhanced_image)\n",
        "  axes[1].set_title('CLAHE')  # Add label 'After' to the enhanced image\n",
        "  axes[1].axis('off')\n",
        "\n",
        "# Show the plot\n",
        "plt.show()"
      ]
    },
    {
      "cell_type": "markdown",
      "source": [
        "#TESTING THE MODEL"
      ],
      "metadata": {
        "id": "T2eLBpmhTwT4"
      }
    },
    {
      "cell_type": "markdown",
      "source": [
        "READING THE IMAGE"
      ],
      "metadata": {
        "id": "znhdSCArT5Fr"
      }
    },
    {
      "cell_type": "code",
      "execution_count": null,
      "metadata": {
        "id": "Q_v2Be6wO3ih"
      },
      "outputs": [],
      "source": [
        "img=cv2.imread(\"/content/image_30.jpeg\")\n",
        "plt.imshow(img)"
      ]
    },
    {
      "cell_type": "markdown",
      "source": [
        "RUNNING THE GA......"
      ],
      "metadata": {
        "id": "xppvcsxDT-Gg"
      }
    },
    {
      "cell_type": "code",
      "execution_count": null,
      "metadata": {
        "id": "Hp5RxZpHSTNL"
      },
      "outputs": [],
      "source": [
        "image=img.copy()\n",
        "\n",
        "\n",
        "max_m=image.shape[0]//4\n",
        "max_n=image.shape[1]//4\n",
        "\n",
        "min_m=2\n",
        "min_n=2\n",
        "\n",
        "population_size= 20\n",
        "generations = 12\n",
        "\n",
        "enhanced_image,Best_fitness,eachgentable=GA_for_CLAHE(image,max_m,max_n,population_size,generations)\n",
        "\n",
        "print(\"Completed\")"
      ]
    },
    {
      "cell_type": "markdown",
      "source": [
        "PLOTTING GRAPHS"
      ],
      "metadata": {
        "id": "4W3I-zzxUBv6"
      }
    },
    {
      "cell_type": "code",
      "execution_count": null,
      "metadata": {
        "id": "EmDPqFsfl312"
      },
      "outputs": [],
      "source": [
        "plt.figure(figsize=(5,5))\n",
        "plt.plot(Best_fitness)\n",
        "plt.title('Best Fitness For Each Generation')\n",
        "plt.xlabel('Generations')\n",
        "plt.ylabel('Fitness Score')\n",
        "plt.xticks(rotation=90)\n",
        "plt.grid(axis='y', linestyle='--', alpha=0.7)\n",
        "plt.tight_layout()\n",
        "plt.show()"
      ]
    },
    {
      "cell_type": "code",
      "execution_count": null,
      "metadata": {
        "id": "dC96RWFQaRC2"
      },
      "outputs": [],
      "source": [
        "plt.figure()\n",
        "plt.plot(eachgentable[0])\n",
        "plt.title('Fitness For First Generation')\n",
        "plt.xlabel('Chromosome')\n",
        "plt.ylabel('Fitness Score')\n",
        "plt.xticks(rotation=90)\n",
        "plt.grid(axis='y', linestyle='--', alpha=0.7)\n",
        "plt.tight_layout()\n",
        "plt.show()"
      ]
    },
    {
      "cell_type": "code",
      "execution_count": null,
      "metadata": {
        "id": "M-HbAwCOuZt0"
      },
      "outputs": [],
      "source": [
        "plt.figure()\n",
        "plt.plot(eachgentable[4])\n",
        "plt.title('Best Fitness After Half OF The Generation')\n",
        "plt.xlabel('Chromosome')\n",
        "plt.ylabel('Fitness Score')\n",
        "plt.xticks(rotation=90)\n",
        "plt.grid(axis='y', linestyle='--', alpha=0.7)\n",
        "plt.tight_layout()\n",
        "plt.show()"
      ]
    },
    {
      "cell_type": "code",
      "execution_count": null,
      "metadata": {
        "id": "bmKkbma9uZcF"
      },
      "outputs": [],
      "source": [
        "plt.figure()\n",
        "plt.plot(eachgentable[9])\n",
        "plt.title('Best Fitness For 10th Generation')\n",
        "plt.xlabel('Chromosome')\n",
        "plt.ylabel('Fitness Score')\n",
        "plt.xticks(rotation=90)\n",
        "plt.grid(axis='y', linestyle='--', alpha=0.7)\n",
        "plt.tight_layout()\n",
        "plt.show()"
      ]
    },
    {
      "cell_type": "code",
      "execution_count": null,
      "metadata": {
        "id": "SHQCqE-EVIGS"
      },
      "outputs": [],
      "source": [
        "compare_images(image,enhanced_image)"
      ]
    },
    {
      "cell_type": "markdown",
      "source": [
        "CALCULATING SSIM SCORE FOR THE IMAGES"
      ],
      "metadata": {
        "id": "KMr2alq_UGTU"
      }
    },
    {
      "cell_type": "code",
      "execution_count": null,
      "metadata": {
        "id": "OpPgiQ6m1y8c"
      },
      "outputs": [],
      "source": [
        "image2=image.copy()\n",
        "LABimage2=cv2.cvtColor(image2,cv2.COLOR_BGR2LAB)\n",
        "orgL,orgA,orgB=cv2.split(LABimage2)\n",
        "\n",
        "image3=enhanced_image.copy()\n",
        "LABimage3=cv2.cvtColor(image3,cv2.COLOR_BGR2LAB)\n",
        "enhL,enhA,enhB=cv2.split(LABimage3)\n",
        "\n",
        "score,_=ssim(orgL,enhL,full=True)"
      ]
    },
    {
      "cell_type": "code",
      "execution_count": null,
      "metadata": {
        "id": "7loORuk5cAUf"
      },
      "outputs": [],
      "source": [
        "score"
      ]
    },
    {
      "cell_type": "code",
      "execution_count": null,
      "metadata": {
        "id": "3gs7o3Udyyxb"
      },
      "outputs": [],
      "source": [
        "calculate_fitness(image,enhanced_image)"
      ]
    },
    {
      "cell_type": "code",
      "source": [],
      "metadata": {
        "id": "xIqSflNOYgA8"
      },
      "execution_count": null,
      "outputs": []
    }
  ],
  "metadata": {
    "colab": {
      "provenance": [],
      "gpuType": "T4"
    },
    "kernelspec": {
      "display_name": "Python 3",
      "name": "python3"
    },
    "language_info": {
      "name": "python"
    },
    "accelerator": "GPU"
  },
  "nbformat": 4,
  "nbformat_minor": 0
}